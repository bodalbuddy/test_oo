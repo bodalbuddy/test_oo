{
 "cells": [
  {
   "cell_type": "code",
   "execution_count": 1,
   "metadata": {},
   "outputs": [
    {
     "name": "stdout",
     "output_type": "stream",
     "text": [
      "Hello World\n"
     ]
    }
   ],
   "source": [
    "print('Hello World')"
   ]
  },
  {
   "cell_type": "code",
   "execution_count": 3,
   "metadata": {},
   "outputs": [
    {
     "name": "stdout",
     "output_type": "stream",
     "text": [
      "Hello world\n"
     ]
    }
   ],
   "source": [
    "print('Hello world')"
   ]
  },
  {
   "cell_type": "code",
   "execution_count": 16,
   "metadata": {},
   "outputs": [
    {
     "name": "stdout",
     "output_type": "stream",
     "text": [
      "hello, python\n"
     ]
    }
   ],
   "source": [
    "message = \"hello, python\"\n",
    "print(message)"
   ]
  },
  {
   "cell_type": "code",
   "execution_count": 17,
   "metadata": {},
   "outputs": [
    {
     "name": "stdout",
     "output_type": "stream",
     "text": [
      "1 2\n"
     ]
    }
   ],
   "source": [
    "num1, num2 = 1, 2\n",
    "print(num1, num2)"
   ]
  },
  {
   "cell_type": "code",
   "execution_count": 19,
   "metadata": {},
   "outputs": [
    {
     "name": "stdout",
     "output_type": "stream",
     "text": [
      "3\n",
      "-1\n",
      "2\n",
      "0.5\n",
      "1\n",
      "0\n",
      "1\n"
     ]
    }
   ],
   "source": [
    "print(num1+num2)\n",
    "print(num1-num2)\n",
    "print(num1*num2)\n",
    "print(num1/num2)\n",
    "print(num1**2)\n",
    "print(num1//num2)\n",
    "print(num1%num2)"
   ]
  },
  {
   "cell_type": "code",
   "execution_count": 41,
   "metadata": {},
   "outputs": [
    {
     "name": "stdout",
     "output_type": "stream",
     "text": [
      "28\n",
      "29\n",
      "30\n"
     ]
    }
   ],
   "source": [
    "print(num1)\n",
    "num1 = num1 +1\n",
    "print(num1)\n",
    "num1 += 1\n",
    "print(num1)"
   ]
  },
  {
   "cell_type": "code",
   "execution_count": 43,
   "metadata": {},
   "outputs": [
    {
     "name": "stdout",
     "output_type": "stream",
     "text": [
      "<class 'int'>\n"
     ]
    }
   ],
   "source": [
    "print(type(num1))"
   ]
  },
  {
   "cell_type": "code",
   "execution_count": 44,
   "metadata": {},
   "outputs": [
    {
     "name": "stdout",
     "output_type": "stream",
     "text": [
      "hello, python\n"
     ]
    }
   ],
   "source": [
    "message = \"hello, python\"\n",
    "print(message)"
   ]
  },
  {
   "cell_type": "code",
   "execution_count": 45,
   "metadata": {},
   "outputs": [
    {
     "name": "stdout",
     "output_type": "stream",
     "text": [
      "\n",
      "hello,\n",
      "python,\n",
      "\n"
     ]
    }
   ],
   "source": [
    "multiline = \"\"\"\n",
    "hello,\n",
    "python,\n",
    "\"\"\"\n",
    "print(multiline)"
   ]
  },
  {
   "cell_type": "code",
   "execution_count": 50,
   "metadata": {},
   "outputs": [
    {
     "name": "stdout",
     "output_type": "stream",
     "text": [
      "hello python\n",
      "hellopython\n",
      "HELLO\n",
      "Hello\n",
      "hello jude\n"
     ]
    }
   ],
   "source": [
    "w1, w2 = \"hello\", \"python\"\n",
    "w3 = w1 + w2\n",
    "print(w1, w2)\n",
    "print(w3)\n",
    "print(w1.upper())\n",
    "print(w1.title())\n",
    "print(\"hey jude\".replace('hey', 'hello'))"
   ]
  },
  {
   "cell_type": "code",
   "execution_count": 51,
   "metadata": {},
   "outputs": [
    {
     "name": "stdout",
     "output_type": "stream",
     "text": [
      "안녕하세요. 손준오님.\n"
     ]
    }
   ],
   "source": [
    "name = '손준오'\n",
    "email = \"안녕하세요. {0}님.\"\n",
    "\n",
    "print(email.format(name))"
   ]
  },
  {
   "cell_type": "code",
   "execution_count": 52,
   "metadata": {},
   "outputs": [
    {
     "data": {
      "text/plain": [
       "['__add__',\n",
       " '__class__',\n",
       " '__contains__',\n",
       " '__delattr__',\n",
       " '__dir__',\n",
       " '__doc__',\n",
       " '__eq__',\n",
       " '__format__',\n",
       " '__ge__',\n",
       " '__getattribute__',\n",
       " '__getitem__',\n",
       " '__getnewargs__',\n",
       " '__gt__',\n",
       " '__hash__',\n",
       " '__init__',\n",
       " '__init_subclass__',\n",
       " '__iter__',\n",
       " '__le__',\n",
       " '__len__',\n",
       " '__lt__',\n",
       " '__mod__',\n",
       " '__mul__',\n",
       " '__ne__',\n",
       " '__new__',\n",
       " '__reduce__',\n",
       " '__reduce_ex__',\n",
       " '__repr__',\n",
       " '__rmod__',\n",
       " '__rmul__',\n",
       " '__setattr__',\n",
       " '__sizeof__',\n",
       " '__str__',\n",
       " '__subclasshook__',\n",
       " 'capitalize',\n",
       " 'casefold',\n",
       " 'center',\n",
       " 'count',\n",
       " 'encode',\n",
       " 'endswith',\n",
       " 'expandtabs',\n",
       " 'find',\n",
       " 'format',\n",
       " 'format_map',\n",
       " 'index',\n",
       " 'isalnum',\n",
       " 'isalpha',\n",
       " 'isascii',\n",
       " 'isdecimal',\n",
       " 'isdigit',\n",
       " 'isidentifier',\n",
       " 'islower',\n",
       " 'isnumeric',\n",
       " 'isprintable',\n",
       " 'isspace',\n",
       " 'istitle',\n",
       " 'isupper',\n",
       " 'join',\n",
       " 'ljust',\n",
       " 'lower',\n",
       " 'lstrip',\n",
       " 'maketrans',\n",
       " 'partition',\n",
       " 'replace',\n",
       " 'rfind',\n",
       " 'rindex',\n",
       " 'rjust',\n",
       " 'rpartition',\n",
       " 'rsplit',\n",
       " 'rstrip',\n",
       " 'split',\n",
       " 'splitlines',\n",
       " 'startswith',\n",
       " 'strip',\n",
       " 'swapcase',\n",
       " 'title',\n",
       " 'translate',\n",
       " 'upper',\n",
       " 'zfill']"
      ]
     },
     "execution_count": 52,
     "metadata": {},
     "output_type": "execute_result"
    }
   ],
   "source": [
    "dir(name)"
   ]
  },
  {
   "cell_type": "code",
   "execution_count": 54,
   "metadata": {},
   "outputs": [
    {
     "data": {
      "text/plain": [
       "'00008'"
      ]
     },
     "execution_count": 54,
     "metadata": {},
     "output_type": "execute_result"
    }
   ],
   "source": [
    "\"8\".zfill(5)"
   ]
  },
  {
   "cell_type": "code",
   "execution_count": 55,
   "metadata": {},
   "outputs": [
    {
     "name": "stdout",
     "output_type": "stream",
     "text": [
      "No Python documentation found for '00008'.\n",
      "Use help() to get the interactive help utility.\n",
      "Use help(str) for help on the str class.\n",
      "\n"
     ]
    }
   ],
   "source": [
    "help(\"8\".zfill(5))"
   ]
  },
  {
   "cell_type": "code",
   "execution_count": 56,
   "metadata": {},
   "outputs": [
    {
     "name": "stdout",
     "output_type": "stream",
     "text": [
      "Help on built-in function print in module builtins:\n",
      "\n",
      "print(...)\n",
      "    print(value, ..., sep=' ', end='\\n', file=sys.stdout, flush=False)\n",
      "    \n",
      "    Prints the values to a stream, or to sys.stdout by default.\n",
      "    Optional keyword arguments:\n",
      "    file:  a file-like object (stream); defaults to the current sys.stdout.\n",
      "    sep:   string inserted between values, default a space.\n",
      "    end:   string appended after the last value, default a newline.\n",
      "    flush: whether to forcibly flush the stream.\n",
      "\n"
     ]
    }
   ],
   "source": [
    "help(print)"
   ]
  },
  {
   "cell_type": "code",
   "execution_count": 65,
   "metadata": {},
   "outputs": [
    {
     "name": "stdout",
     "output_type": "stream",
     "text": [
      "hello python\n",
      "안녕하세요\n"
     ]
    }
   ],
   "source": [
    "w1, w2 = 'hello', 'python'\n",
    "print(w1, w2)\n",
    "print(\"안녕하세요\")"
   ]
  },
  {
   "cell_type": "code",
   "execution_count": 67,
   "metadata": {},
   "outputs": [],
   "source": [
    "t = True\n",
    "f = False"
   ]
  },
  {
   "cell_type": "code",
   "execution_count": 73,
   "metadata": {},
   "outputs": [
    {
     "name": "stdout",
     "output_type": "stream",
     "text": [
      "False\n",
      "True\n",
      "hello\n",
      "False\n"
     ]
    }
   ],
   "source": [
    "print(t and f)\n",
    "print(t or f)\n",
    "print(w1)\n",
    "print(w1 is None)"
   ]
  },
  {
   "cell_type": "code",
   "execution_count": 2,
   "metadata": {},
   "outputs": [
    {
     "name": "stdout",
     "output_type": "stream",
     "text": [
      "\n",
      "안녕하세요.손준오님, 파이썬 수업에 오신걸 환영합니다.\n",
      "오늘은 첫째날입니다. 손준오님의 메일주소 bodalbuddy@naver.com로 학습내용을 보내드립니다.\n",
      "\n"
     ]
    }
   ],
   "source": [
    "#mail message 내용을 message 변수에 담는다.\n",
    "message=\"\"\"\n",
    "안녕하세요.{0}님, 파이썬 수업에 오신걸 환영합니다.\n",
    "오늘은 첫째날입니다. {0}님의 메일주소 {1}로 학습내용을 보내드립니다.\n",
    "\"\"\"\n",
    "#보낼사람의 이름과 이메일주소를 입력을 받는다.\n",
    "name = input(\"누구에게 보낼 메일인가요?\")\n",
    "email = input(\"메일주소를 입력해주세요\")\n",
    "\n",
    "message_vip =\"\"\"\n",
    "안녕하세요, VIP {0}님, 파이썬 수업에 오신걸 환영합니다.\n",
    "오늘은 첫째날입니다. 회원님에게 20% 할인 상품권을 지급해 드렸습니다.\n",
    "{0}님의 메일주소 {1}로 학습내용을 보내드립니다.\n",
    "\"\"\"\n",
    "\n",
    "#메일 내용을 완성해서 출력한다.\n",
    "complete = message.format(name, email)\n",
    "print(complete)\n"
   ]
  },
  {
   "cell_type": "code",
   "execution_count": 1,
   "metadata": {},
   "outputs": [
    {
     "name": "stdout",
     "output_type": "stream",
     "text": [
      "1번째 메세지입니다.\n",
      "2번째 메세지입니다.\n",
      "3번째 메세지입니다.\n",
      "4번째 메세지입니다.\n",
      "5번째 메세지입니다.\n",
      "6번째 메세지입니다.\n",
      "7번째 메세지입니다.\n",
      "8번째 메세지입니다.\n",
      "9번째 메세지입니다.\n",
      "10번째 종료되었습니다.\n"
     ]
    }
   ],
   "source": [
    "num = 1\n",
    "\n",
    "while num < 10:\n",
    "    print(\"{0}번째 메세지입니다.\".format(num))\n",
    "    num += 1\n",
    "    \n",
    "print(\"{0}번째 종료되었습니다.\".format(num))"
   ]
  },
  {
   "cell_type": "code",
   "execution_count": 5,
   "metadata": {},
   "outputs": [
    {
     "data": {
      "text/plain": [
       "['__call__',\n",
       " '__class__',\n",
       " '__delattr__',\n",
       " '__dir__',\n",
       " '__doc__',\n",
       " '__eq__',\n",
       " '__format__',\n",
       " '__ge__',\n",
       " '__get__',\n",
       " '__getattribute__',\n",
       " '__gt__',\n",
       " '__hash__',\n",
       " '__init__',\n",
       " '__init_subclass__',\n",
       " '__le__',\n",
       " '__lt__',\n",
       " '__name__',\n",
       " '__ne__',\n",
       " '__new__',\n",
       " '__objclass__',\n",
       " '__qualname__',\n",
       " '__reduce__',\n",
       " '__reduce_ex__',\n",
       " '__repr__',\n",
       " '__setattr__',\n",
       " '__sizeof__',\n",
       " '__str__',\n",
       " '__subclasshook__',\n",
       " '__text_signature__']"
      ]
     },
     "execution_count": 5,
     "metadata": {},
     "output_type": "execute_result"
    }
   ],
   "source": [
    "dir(list.append)\n"
   ]
  },
  {
   "cell_type": "code",
   "execution_count": 8,
   "metadata": {},
   "outputs": [
    {
     "name": "stdout",
     "output_type": "stream",
     "text": [
      "['__add__', '__class__', '__contains__', '__delattr__', '__delitem__', '__dir__', '__doc__', '__eq__', '__format__', '__ge__', '__getattribute__', '__getitem__', '__gt__', '__hash__', '__iadd__', '__imul__', '__init__', '__init_subclass__', '__iter__', '__le__', '__len__', '__lt__', '__mul__', '__ne__', '__new__', '__reduce__', '__reduce_ex__', '__repr__', '__reversed__', '__rmul__', '__setattr__', '__setitem__', '__sizeof__', '__str__', '__subclasshook__', 'append', 'clear', 'copy', 'count', 'extend', 'index', 'insert', 'pop', 'remove', 'reverse', 'sort']\n"
     ]
    }
   ],
   "source": [
    "my_list=[1,2,3,4,5,6,7]\n",
    "print(dir(my_list))"
   ]
  },
  {
   "cell_type": "code",
   "execution_count": 16,
   "metadata": {},
   "outputs": [
    {
     "name": "stdout",
     "output_type": "stream",
     "text": [
      "[6, 12]\n",
      "0 1\n",
      "1 2\n",
      "2 3\n",
      "3 4\n",
      "4 5\n",
      "5 6\n",
      "6 7\n",
      "5\n",
      "6\n",
      "7\n"
     ]
    }
   ],
   "source": [
    "my_list=[1,2,3,4,5,6,7]\n",
    "\n",
    "new_list1=[]\n",
    "for i in my_list:\n",
    "    if i*2%3 == 0:\n",
    "        new_list1.append(i*2)\n",
    "print(new_list1)\n",
    "\n",
    "for idx, i in enumerate(my_list):\n",
    "    print(idx, i)\n",
    "    \n",
    "for i in my_list[-3:]:\n",
    "    print(i)"
   ]
  },
  {
   "cell_type": "code",
   "execution_count": 18,
   "metadata": {},
   "outputs": [
    {
     "name": "stdout",
     "output_type": "stream",
     "text": [
      "[2, 4, 6, 8, 10, 12, 14]\n",
      "[6, 12]\n"
     ]
    }
   ],
   "source": [
    "my_list=[1,2,3,4,5,6,7]\n",
    "\n",
    "new_list = [i*2 for i in my_list]\n",
    "print(new_list)\n",
    "\n",
    "new_list = [i*2 for i in my_list if i*2%3 == 0]\n",
    "print(new_list)\n",
    "\n"
   ]
  },
  {
   "cell_type": "code",
   "execution_count": 73,
   "metadata": {},
   "outputs": [
    {
     "name": "stdout",
     "output_type": "stream",
     "text": [
      "9\n",
      "75\n",
      "-77\n",
      "[75, 46, 93, -82, -77, 130, 100, 75, -10, 80]\n",
      "[75, 46, 93]\n",
      "[75, 46, 93, 130, 100, 75, 80]\n",
      "[75, 46, 93, 100, 75, 80]\n",
      "469 78.16666666666667\n",
      "[7.5, 4.6, 9.3, 10.0, 7.5, 8.0]\n"
     ]
    }
   ],
   "source": [
    "score = [75, 46, 93, -82, -77, 130, 100, 75, -10]\n",
    "\n",
    "# score에 들어있는 element의 갯수를 구하시오\n",
    "print(len(score))\n",
    "# 첫번째와 다섯번째 element의 값을 출력하시오.\n",
    "print(score[0])\n",
    "print(score[4])\n",
    "# 마지막에 숫자 80을 추가하시오\n",
    "score.append(80)\n",
    "print(score)\n",
    "# 첫번째부터 3번째까지의 element를 slice하세요.\n",
    "print(score[0:3])\n",
    "# score에서 음수를 제거한 리스트를 score01 변수에 담으세요. \n",
    "# score01=[]\n",
    "# for i in score:\n",
    "#     if i>=0: score01.append(i)\n",
    "# print(score01)\n",
    "score01 = [i for i in score if i>=0]\n",
    "print(score01)\n",
    "# score01에서 100보다 큰 수를 제외한 리스트를 score02 변수에 담으세요.\n",
    "# score02=[]\n",
    "# for i in score01:\n",
    "#     if i<100: score02.append(i)\n",
    "# print(score02)\n",
    "score02 = [i for i in score01 if i <= 100]\n",
    "print(score02)\n",
    "\n",
    "# score02 리스트의 element들 합과 평균을 구하시요\n",
    "# for i in score02:\n",
    "#     sum = 0\n",
    "#     sum = sum + i\n",
    "# print(sum)\n",
    "\n",
    "print(sum(score02), sum(score02) / len(score02))\n",
    "# print(sum/len(score02))\n",
    "#sum(score02)\n",
    "#sum(score02)/len(score02)\n",
    "# score02 리스트 각 element의 값을 10으로 나눈 값을 갖는 리스트 score03을 만드세요.\n",
    "score03=[i/10 for i in score02]\n",
    "print(score03)"
   ]
  },
  {
   "cell_type": "code",
   "execution_count": 74,
   "metadata": {},
   "outputs": [
    {
     "data": {
      "text/plain": [
       "350"
      ]
     },
     "execution_count": 74,
     "metadata": {},
     "output_type": "execute_result"
    }
   ],
   "source": [
    "score = [75, 46, 93, -82, -77, 130, 100, 75, -10]\n",
    "sum(score)"
   ]
  },
  {
   "cell_type": "code",
   "execution_count": 77,
   "metadata": {},
   "outputs": [
    {
     "name": "stdout",
     "output_type": "stream",
     "text": [
      "{'이숙번': [30, 50, 70], '강두루': [40, 60, 80], '변아영': [60, 70, 80]}\n"
     ]
    }
   ],
   "source": [
    "성적표=[\n",
    "    ['이숙번', 30, 50, 70],\n",
    "    ['강두루', 40, 60, 80],\n",
    "    ['변아영', 60, 70, 80]\n",
    "]\n",
    "\n",
    "성적표_dict = {i[0]: i[1:] for i in 성적표}\n",
    "print(성적표_dict)"
   ]
  },
  {
   "cell_type": "code",
   "execution_count": 81,
   "metadata": {},
   "outputs": [
    {
     "name": "stdout",
     "output_type": "stream",
     "text": [
      "[{'no': 11, 'name': 'Geoffery Hinton', 'points': [92, 96, 98]}, {'no': 12, 'name': 'Yann Lecun', 'points': [58, 64, 100]}, {'no': 13, 'name': 'Yoshua Bengio', 'points': [88, 84, 92]}, {'no': 14, 'name': 'Andrew Ng', 'points': [75, 85, 100]}]\n"
     ]
    }
   ],
   "source": [
    "stu01 = {\n",
    "    \"no\": 1,\n",
    "    \"name\": \"Geoffery Hinton\",\n",
    "    \"points\": [92, 96, 98]\n",
    "}\n",
    "stu02 = {\n",
    "    \"no\": 2,\n",
    "    \"name\": \"Yann Lecun\",\n",
    "    \"points\": [58, 64, 100]\n",
    "}\n",
    "stu03 = {\n",
    "    \"no\": 3,\n",
    "    \"name\": \"Yoshua Bengio\",\n",
    "    \"points\": [88, 84, 92]\n",
    "}\n",
    "stu04 = {\n",
    "    \"no\": 4,\n",
    "    \"name\": \"Andrew Ng\",\n",
    "    \"points\": [75, 85, 100]\n",
    "}\n",
    "\n",
    "stu = [stu01, stu02, stu03, stu04]\n",
    "\n",
    "# 각 학생들의 번호에 10씩 더하세요.\n",
    "for i in stu:\n",
    "    i['no'] = i['no']+10\n",
    "print(stu)\n",
    "\n",
    "# 각 학생별로 점수 합계를 구하세요.\n",
    "# 'sum' 항목을 추가하여 위에서 구한 결과를 넣으세요.\n",
    "\n",
    "# 아래 out 문자열을 이용하여 학생들의 번호, 이름, 평균점수를 출력하시오.\n",
    "out = \"번호: {0}, 이름: {1}, 평균점수: {2:.2f}\"\n",
    "\n",
    "# 모든 학생의 key: value를 출력하는 코드를 작성하세요."
   ]
  },
  {
   "cell_type": "code",
   "execution_count": 97,
   "metadata": {},
   "outputs": [
    {
     "name": "stdout",
     "output_type": "stream",
     "text": [
      "[5, 16, 22, 23, 28, 45]\n"
     ]
    }
   ],
   "source": [
    "import random\n",
    "#로또번호 만들기 로직\n",
    "\n",
    "#lottos 변수에 빈 리스트를 지정\n",
    "lottos=[]\n",
    "#반복 lottos가 6개가 아닌 동안\n",
    "while len(lottos) < 6:\n",
    "    #렌덤하게 숫자를 만들어요. 1~46 사이의 임의의 수를 변수 new에 담아요\n",
    "    new = random.randint(1,46)\n",
    "    if new not in lottos:\n",
    "        lottos.append(new)\n",
    "    \n",
    "    # 만약 new가 lottos에 없으면,\n",
    "        #lottos에 new를 추가합니다.\n",
    "lottos.sort()\n",
    "print(lottos)"
   ]
  },
  {
   "cell_type": "code",
   "execution_count": null,
   "metadata": {},
   "outputs": [],
   "source": []
  },
  {
   "cell_type": "code",
   "execution_count": null,
   "metadata": {},
   "outputs": [],
   "source": []
  }
 ],
 "metadata": {
  "kernelspec": {
   "display_name": "Python 3",
   "language": "python",
   "name": "python3"
  },
  "language_info": {
   "codemirror_mode": {
    "name": "ipython",
    "version": 3
   },
   "file_extension": ".py",
   "mimetype": "text/x-python",
   "name": "python",
   "nbconvert_exporter": "python",
   "pygments_lexer": "ipython3",
   "version": "3.7.6"
  }
 },
 "nbformat": 4,
 "nbformat_minor": 4
}
